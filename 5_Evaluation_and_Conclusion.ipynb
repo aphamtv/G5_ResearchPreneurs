{
 "cells": [
  {
   "attachments": {},
   "cell_type": "markdown",
   "id": "e19129d1-dded-4f02-b2ef-af778b6f32c5",
   "metadata": {},
   "source": [
    "# Evaluation and Recommendations"
   ]
  },
  {
   "cell_type": "markdown",
   "id": "77d64259-d1c0-4d8e-b627-683d34e41e47",
   "metadata": {},
   "source": [
    "## Topics Evaluation"
   ]
  },
  {
   "cell_type": "markdown",
   "id": "f5fa561f-96cf-4fac-b7b3-1b147d4b811f",
   "metadata": {
    "jp-MarkdownHeadingCollapsed": true
   },
   "source": [
    "### Summary Results\n",
    "**LDA Results**\n",
    "The 4-topic LDA model uncovered nuanced themes around events/webinars, seeking solutions, research updates, and business innovation. Each topic contains interpretible keywords that summarize its focus:\n",
    "\n",
    "* Topic 0: webinar, event, time, march (Events & Webinars)\n",
    "* Topic 1: challenge, seek, solution, submit (Requests for Solutions)\n",
    "* Topic 2: technology, new, researcher, information, science, research (Research Updates)\n",
    "* Topic 3: industry, research, business, idea (Business & Industry Innovation)\n",
    "\n",
    "**K-means Results**\n",
    "K-means clustering identified two  themes:\n",
    "\n",
    "* Cluster 0 : innovation, open, webinar, technology, new, research, look, challenge (Innovation Exploration)\n",
    "* Cluster 1 : challenge, new, technology, research, seek, solution,  submit  (Challenges and Solutions)"
   ]
  },
  {
   "cell_type": "markdown",
   "id": "9d1103ca-caed-4a76-8dfe-b65ac89c9358",
   "metadata": {},
   "source": [
    "### Comparison\n",
    "Both LDA and K-means successfully identified common themes related to \"Innovation,\" \"Technology,\" and \"Research.\" This similarity underscores the dataset's primary focus on technological advancements, challenges, and research opportunities, which aligns well with the nature of companies operating in the technology and innovation sectors.\n",
    "\n",
    "While LDA found 4 more fine-grained topics, K-means resulted in 2 broad clusters. LDA Topic 1 - \"Requests for Solutions\" on seeking solutions closely matches K-means Cluster 1 - \"Challenges and Solutions\". And LDA Topic 3 - \"Business Innovation\" aligns with aspects of K-means Cluster 0 - \"Innovation Exploration\" . This suggests the two major themes found by K-means underlie several of the LDA topics.\n",
    "\n",
    "However, LDA separates events, research updates, and industry innovation into distinct topics. K-means consolidated these themes into its broader clusters. Overall, LDA discovers more nuanced semantic topics, while K-means provides higher-level partitioning of the corpus."
   ]
  },
  {
   "cell_type": "markdown",
   "id": "3421fd0d-7473-4a1e-9f7f-4e9bffd35b5b",
   "metadata": {},
   "source": [
    "### Application\n",
    "Our goal is to help ResearchPreneurs start developing an initial Twitter strategy. The 2 main clusters from K-means - Innovation Exploration and Challenges & Solutions - provide an effective way to understand competitors' high-level messaging. These groups summarize the broader conversations in a simple overview.\n",
    "\n",
    "For launching their own account, ResearchPreneurs could consider focusing on one or both macro-topics based on their goals. The K-means clusters analyze competitors' content in an easy-to-understand way. Later, the more granular 4 topics from LDA can help refine messaging and find specific events, research, etc. to tweet about within those big categories. But for initial strategy, the generalized K-means clusters give ResearchPreneurs useful perspective on competitors' main Twitter themes to inform their approach."
   ]
  },
  {
   "cell_type": "markdown",
   "id": "e1c40459-a3eb-435b-a144-3ef3cbeee3ba",
   "metadata": {},
   "source": [
    "## Tweet Clusters and Engagement Rates"
   ]
  },
  {
   "cell_type": "code",
   "execution_count": 1,
   "id": "dff0ba6e-ebe6-4310-ab2c-dbae770ad035",
   "metadata": {},
   "outputs": [],
   "source": [
    "import pandas as pd\n",
    "import pickle\n",
    "import numpy as np\n",
    "import matplotlib.pyplot as plt \n",
    "\n",
    "# ignore all warnings\n",
    "import warnings\n",
    "warnings.filterwarnings(\"ignore\")"
   ]
  },
  {
   "cell_type": "code",
   "execution_count": 2,
   "id": "eda871ad-3841-4635-97b3-712e8e22a5c9",
   "metadata": {},
   "outputs": [],
   "source": [
    "df = pd.read_pickle(\"pickle_files/topic_dataset.pkl\")"
   ]
  },
  {
   "cell_type": "code",
   "execution_count": 3,
   "id": "8ec4d4ce-dd6e-493c-9fed-9eda4c73a6be",
   "metadata": {},
   "outputs": [
    {
     "data": {
      "text/html": [
       "<div>\n",
       "<style scoped>\n",
       "    .dataframe tbody tr th:only-of-type {\n",
       "        vertical-align: middle;\n",
       "    }\n",
       "\n",
       "    .dataframe tbody tr th {\n",
       "        vertical-align: top;\n",
       "    }\n",
       "\n",
       "    .dataframe thead th {\n",
       "        text-align: right;\n",
       "    }\n",
       "</style>\n",
       "<table border=\"1\" class=\"dataframe\">\n",
       "  <thead>\n",
       "    <tr style=\"text-align: right;\">\n",
       "      <th></th>\n",
       "      <th>user_id</th>\n",
       "      <th>user_name</th>\n",
       "      <th>date</th>\n",
       "      <th>text</th>\n",
       "      <th>tweet_id</th>\n",
       "      <th>is_reply</th>\n",
       "      <th>replies</th>\n",
       "      <th>retweets</th>\n",
       "      <th>quotes</th>\n",
       "      <th>cleaned_text</th>\n",
       "      <th>cluster_number</th>\n",
       "      <th>cluster_name</th>\n",
       "      <th>topic_number</th>\n",
       "      <th>topic_name</th>\n",
       "    </tr>\n",
       "  </thead>\n",
       "  <tbody>\n",
       "    <tr>\n",
       "      <th>0</th>\n",
       "      <td>72579390</td>\n",
       "      <td>innoget</td>\n",
       "      <td>Fri Feb 26 11:35:21 +0000 2016</td>\n",
       "      <td>#Global #Biotech Reagents Market 2016 Industry...</td>\n",
       "      <td>703181551727570944</td>\n",
       "      <td>False</td>\n",
       "      <td>0</td>\n",
       "      <td>0</td>\n",
       "      <td>0</td>\n",
       "      <td>global biotech reagent market industry share r...</td>\n",
       "      <td>1</td>\n",
       "      <td>Challenges and Solutions</td>\n",
       "      <td>3</td>\n",
       "      <td>Business &amp; Industry Innovation</td>\n",
       "    </tr>\n",
       "    <tr>\n",
       "      <th>1</th>\n",
       "      <td>72579390</td>\n",
       "      <td>innoget</td>\n",
       "      <td>Thu Feb 25 10:15:16 +0000 2016</td>\n",
       "      <td>Tech Transfer Office in #Ohio #University help...</td>\n",
       "      <td>702799011187658752</td>\n",
       "      <td>False</td>\n",
       "      <td>0</td>\n",
       "      <td>0</td>\n",
       "      <td>0</td>\n",
       "      <td>tech transfer office ohio university help staf...</td>\n",
       "      <td>0</td>\n",
       "      <td>Innovation Exploration</td>\n",
       "      <td>3</td>\n",
       "      <td>Business &amp; Industry Innovation</td>\n",
       "    </tr>\n",
       "    <tr>\n",
       "      <th>2</th>\n",
       "      <td>72579390</td>\n",
       "      <td>innoget</td>\n",
       "      <td>Wed Feb 24 12:10:05 +0000 2016</td>\n",
       "      <td>What’s your point regarding IP protection? Doe...</td>\n",
       "      <td>702465520109559808</td>\n",
       "      <td>False</td>\n",
       "      <td>0</td>\n",
       "      <td>0</td>\n",
       "      <td>0</td>\n",
       "      <td>point regard protection benefit market new pro...</td>\n",
       "      <td>1</td>\n",
       "      <td>Challenges and Solutions</td>\n",
       "      <td>2</td>\n",
       "      <td>Research Updates</td>\n",
       "    </tr>\n",
       "    <tr>\n",
       "      <th>3</th>\n",
       "      <td>72579390</td>\n",
       "      <td>innoget</td>\n",
       "      <td>Tue Feb 23 15:15:17 +0000 2016</td>\n",
       "      <td>New article about #Samsung and its investment ...</td>\n",
       "      <td>702149739492597761</td>\n",
       "      <td>False</td>\n",
       "      <td>0</td>\n",
       "      <td>0</td>\n",
       "      <td>0</td>\n",
       "      <td>new samsung investment biotechnology aim becom...</td>\n",
       "      <td>1</td>\n",
       "      <td>Challenges and Solutions</td>\n",
       "      <td>3</td>\n",
       "      <td>Business &amp; Industry Innovation</td>\n",
       "    </tr>\n",
       "    <tr>\n",
       "      <th>4</th>\n",
       "      <td>72579390</td>\n",
       "      <td>innoget</td>\n",
       "      <td>Mon Feb 22 12:01:04 +0000 2016</td>\n",
       "      <td>Want to success in Tech Transfer? Visit our bl...</td>\n",
       "      <td>701738474878144513</td>\n",
       "      <td>False</td>\n",
       "      <td>0</td>\n",
       "      <td>0</td>\n",
       "      <td>0</td>\n",
       "      <td>want success tech transfer visit new ten step ...</td>\n",
       "      <td>1</td>\n",
       "      <td>Challenges and Solutions</td>\n",
       "      <td>3</td>\n",
       "      <td>Business &amp; Industry Innovation</td>\n",
       "    </tr>\n",
       "  </tbody>\n",
       "</table>\n",
       "</div>"
      ],
      "text/plain": [
       "    user_id user_name                            date  \\\n",
       "0  72579390   innoget  Fri Feb 26 11:35:21 +0000 2016   \n",
       "1  72579390   innoget  Thu Feb 25 10:15:16 +0000 2016   \n",
       "2  72579390   innoget  Wed Feb 24 12:10:05 +0000 2016   \n",
       "3  72579390   innoget  Tue Feb 23 15:15:17 +0000 2016   \n",
       "4  72579390   innoget  Mon Feb 22 12:01:04 +0000 2016   \n",
       "\n",
       "                                                text            tweet_id  \\\n",
       "0  #Global #Biotech Reagents Market 2016 Industry...  703181551727570944   \n",
       "1  Tech Transfer Office in #Ohio #University help...  702799011187658752   \n",
       "2  What’s your point regarding IP protection? Doe...  702465520109559808   \n",
       "3  New article about #Samsung and its investment ...  702149739492597761   \n",
       "4  Want to success in Tech Transfer? Visit our bl...  701738474878144513   \n",
       "\n",
       "   is_reply  replies  retweets  quotes  \\\n",
       "0     False        0         0       0   \n",
       "1     False        0         0       0   \n",
       "2     False        0         0       0   \n",
       "3     False        0         0       0   \n",
       "4     False        0         0       0   \n",
       "\n",
       "                                        cleaned_text  cluster_number  \\\n",
       "0  global biotech reagent market industry share r...               1   \n",
       "1  tech transfer office ohio university help staf...               0   \n",
       "2  point regard protection benefit market new pro...               1   \n",
       "3  new samsung investment biotechnology aim becom...               1   \n",
       "4  want success tech transfer visit new ten step ...               1   \n",
       "\n",
       "               cluster_name  topic_number                      topic_name  \n",
       "0  Challenges and Solutions             3  Business & Industry Innovation  \n",
       "1    Innovation Exploration             3  Business & Industry Innovation  \n",
       "2  Challenges and Solutions             2                Research Updates  \n",
       "3  Challenges and Solutions             3  Business & Industry Innovation  \n",
       "4  Challenges and Solutions             3  Business & Industry Innovation  "
      ]
     },
     "execution_count": 3,
     "metadata": {},
     "output_type": "execute_result"
    }
   ],
   "source": [
    "df.head(5)"
   ]
  },
  {
   "cell_type": "markdown",
   "id": "3af27fc5-e6f8-4969-aa40-fa41e5d2d398",
   "metadata": {},
   "source": [
    "## Topics/ Clusters Distribution"
   ]
  },
  {
   "cell_type": "markdown",
   "id": "182a6555-cb26-417a-96fc-5585bbfc1b07",
   "metadata": {},
   "source": [
    "First, we plot the number of tweets in each topic and cluster to gain insights into the distribution of tweets across different topics. By understanding the relative tweet volumes in each topic, we can identify popular subjects and potential trends within the data."
   ]
  },
  {
   "cell_type": "markdown",
   "id": "9b57d574-895d-4846-a5d9-42bb009004cd",
   "metadata": {},
   "source": [
    "### Clusters"
   ]
  },
  {
   "cell_type": "code",
   "execution_count": 6,
   "id": "32ed2e61-2d9d-4763-b9f9-e61d435f6a9f",
   "metadata": {},
   "outputs": [
    {
     "data": {
      "image/png": "[encoded data removed]",
      "text/plain": [
       "<Figure size 1000x500 with 1 Axes>"
      ]
     },
     "metadata": {},
     "output_type": "display_data"
    }
   ],
   "source": [
    "plt.figure(figsize=(10, 5))\n",
    "\n",
    "topic_counts = df['cluster_name'].value_counts()\n",
    "topic_counts.plot(kind='bar', color='#636efa')  \n",
    "plt.title('Number of Tweets in Each Cluster')\n",
    "plt.xlabel('Cluster Names')\n",
    "plt.ylabel('Count')\n",
    "plt.xticks(rotation=0)\n",
    "\n",
    "# Add data labels on top of each bar\n",
    "for i, count in enumerate(topic_counts):\n",
    "    plt.text(i, count + 5, count, ha='center')\n",
    "\n",
    "plt.show()"
   ]
  },
  {
   "cell_type": "markdown",
   "id": "909526e1-3820-405b-86b0-634a87152ee6",
   "metadata": {},
   "source": [
    "The tweet distribution shows the Challenges and Solutions theme was much more dominant, with about 3x as many tweets as Innovation Exploration. The \"Challenges and Solutions\" cluster has 3106 tweets, while the \"Innovation Exploration\" cluster had 1025 tweets."
   ]
  },
  {
   "cell_type": "code",
   "execution_count": 13,
   "id": "669951b0-6f68-476c-a847-76be85d9d0db",
   "metadata": {},
   "outputs": [
    {
     "data": {
      "image/png": "[encoded data removed]",
      "text/plain": [
       "<Figure size 1000x600 with 1 Axes>"
      ]
     },
     "metadata": {},
     "output_type": "display_data"
    }
   ],
   "source": [
    "# number of tweets in each cluster by company\n",
    "# group the data by user_name and cluster_name, and count the number of tweets in each group\n",
    "grouped_data = df.groupby(['user_name', 'cluster_name']).size().unstack()\n",
    "\n",
    "# get the list of user_names and cluster names\n",
    "user_names = grouped_data.index\n",
    "cluster_names = grouped_data.columns\n",
    "\n",
    "# plot the chart\n",
    "bar_width = 0.5\n",
    "fig, ax = plt.subplots(figsize=(10, 6))\n",
    "bottom = np.zeros(len(user_names))\n",
    "colors = ['#636efa', '#adb3fc'] \n",
    "\n",
    "for i, cluster in enumerate(cluster_names):\n",
    "    ax.bar(user_names, grouped_data[cluster], bottom=bottom, width=bar_width, label=cluster, color=colors[i])\n",
    "    bottom += grouped_data[cluster]\n",
    "\n",
    "# add labels, legend, and title\n",
    "ax.set_xlabel('Company')\n",
    "ax.set_ylabel('Number of Tweets')\n",
    "ax.set_title('Number of Tweets in Each Cluster by Company')\n",
    "ax.legend()\n",
    "\n",
    "plt.xticks(rotation=0)\n",
    "plt.show()\n"
   ]
  },
  {
   "cell_type": "code",
   "execution_count": 11,
   "id": "aeb5e9b0-fcb7-4b25-8239-1a4f056af8cb",
   "metadata": {},
   "outputs": [
    {
     "data": {
      "text/html": [
       "<div>\n",
       "<style scoped>\n",
       "    .dataframe tbody tr th:only-of-type {\n",
       "        vertical-align: middle;\n",
       "    }\n",
       "\n",
       "    .dataframe tbody tr th {\n",
       "        vertical-align: top;\n",
       "    }\n",
       "\n",
       "    .dataframe thead tr th {\n",
       "        text-align: left;\n",
       "    }\n",
       "\n",
       "    .dataframe thead tr:last-of-type th {\n",
       "        text-align: right;\n",
       "    }\n",
       "</style>\n",
       "<table border=\"1\" class=\"dataframe\">\n",
       "  <thead>\n",
       "    <tr>\n",
       "      <th></th>\n",
       "      <th colspan=\"2\" halign=\"left\">Count</th>\n",
       "      <th colspan=\"2\" halign=\"left\">Percentage</th>\n",
       "    </tr>\n",
       "    <tr>\n",
       "      <th>cluster_name</th>\n",
       "      <th>Challenges and Solutions</th>\n",
       "      <th>Innovation Exploration</th>\n",
       "      <th>Challenges and Solutions</th>\n",
       "      <th>Innovation Exploration</th>\n",
       "    </tr>\n",
       "    <tr>\n",
       "      <th>user_name</th>\n",
       "      <th></th>\n",
       "      <th></th>\n",
       "      <th></th>\n",
       "      <th></th>\n",
       "    </tr>\n",
       "  </thead>\n",
       "  <tbody>\n",
       "    <tr>\n",
       "      <th>IN_PART</th>\n",
       "      <td>550</td>\n",
       "      <td>124</td>\n",
       "      <td>81.60</td>\n",
       "      <td>18.40</td>\n",
       "    </tr>\n",
       "    <tr>\n",
       "      <th>MomentiveAI</th>\n",
       "      <td>485</td>\n",
       "      <td>1</td>\n",
       "      <td>99.79</td>\n",
       "      <td>0.21</td>\n",
       "    </tr>\n",
       "    <tr>\n",
       "      <th>NineSigma</th>\n",
       "      <td>624</td>\n",
       "      <td>69</td>\n",
       "      <td>90.04</td>\n",
       "      <td>9.96</td>\n",
       "    </tr>\n",
       "    <tr>\n",
       "      <th>WazokuHq</th>\n",
       "      <td>348</td>\n",
       "      <td>406</td>\n",
       "      <td>46.15</td>\n",
       "      <td>53.85</td>\n",
       "    </tr>\n",
       "    <tr>\n",
       "      <th>innoget</th>\n",
       "      <td>444</td>\n",
       "      <td>251</td>\n",
       "      <td>63.88</td>\n",
       "      <td>36.12</td>\n",
       "    </tr>\n",
       "    <tr>\n",
       "      <th>yet2com</th>\n",
       "      <td>655</td>\n",
       "      <td>174</td>\n",
       "      <td>79.01</td>\n",
       "      <td>20.99</td>\n",
       "    </tr>\n",
       "  </tbody>\n",
       "</table>\n",
       "</div>"
      ],
      "text/plain": [
       "                                Count                         \\\n",
       "cluster_name Challenges and Solutions Innovation Exploration   \n",
       "user_name                                                      \n",
       "IN_PART                           550                    124   \n",
       "MomentiveAI                       485                      1   \n",
       "NineSigma                         624                     69   \n",
       "WazokuHq                          348                    406   \n",
       "innoget                           444                    251   \n",
       "yet2com                           655                    174   \n",
       "\n",
       "                           Percentage                         \n",
       "cluster_name Challenges and Solutions Innovation Exploration  \n",
       "user_name                                                     \n",
       "IN_PART                         81.60                  18.40  \n",
       "MomentiveAI                     99.79                   0.21  \n",
       "NineSigma                       90.04                   9.96  \n",
       "WazokuHq                        46.15                  53.85  \n",
       "innoget                         63.88                  36.12  \n",
       "yet2com                         79.01                  20.99  "
      ]
     },
     "execution_count": 11,
     "metadata": {},
     "output_type": "execute_result"
    }
   ],
   "source": [
    "# group the data by user_name and topic_name, and count the number of tweets in each group\n",
    "grouped_data = df.groupby(['user_name', 'cluster_name']).size().unstack()\n",
    "\n",
    "# calculate the total number of tweets for each company\n",
    "total_tweets = grouped_data.sum(axis=1)\n",
    "\n",
    "# calculate the percentage of each topic relative to the total number of tweets for each company\n",
    "percentages = (grouped_data.div(total_tweets, axis=0) * 100).round(2)\n",
    "\n",
    "# store all numbers in a df\n",
    "result_df = pd.concat([grouped_data, percentages], axis=1, keys=['Count', 'Percentage'])\n",
    "result_df"
   ]
  },
  {
   "cell_type": "markdown",
   "id": "bd98f96e-df34-4a36-930e-6dc6b232a1e8",
   "metadata": {},
   "source": [
    "From the results, we can draw the following conclusions:\n",
    "\n",
    "The \"Challenges and Solutions\" cluster accounts for 81.60% of the tweets, while \"Innovation Exploration\" accounts for 18.40%.\n",
    "* \"IN_PART\" contributed the most tweets overall, with 55% in \"Challenges and Solutions\" and 45% in \"Innovation Exploration\". Their tweets are relatively balanced between the clusters.\n",
    "* \"MomentiveAI\", \"NineSigma\", and \"yet2com\" have heavy concentration (90%+) in the \"Challenges and Solutions\" cluster, with very few \"Innovation Exploration\" tweets. Their content focuses heavily on challenges and solutions.\n",
    "* \"WazokuHq\" conversely has a higher portion of their tweets (53.85%) in the \"Innovation Exploration\" cluster. Their content appears more innovation focused.\n",
    "* \"innoget\" falls in the middle with a slight skew (63.88%) towards \"Challenges and Solutions\".\n"
   ]
  },
  {
   "cell_type": "markdown",
   "id": "d302d3d6-d41a-403b-97f2-a9252ea85104",
   "metadata": {},
   "source": [
    "### LDA Topics"
   ]
  },
  {
   "cell_type": "code",
   "execution_count": 14,
   "id": "dd8023a7-6fb9-466b-a952-b3a7b78db4eb",
   "metadata": {},
   "outputs": [
    {
     "data": {
      "image/png": "[encoded data removed]",
      "text/plain": [
       "<Figure size 1000x500 with 1 Axes>"
      ]
     },
     "metadata": {},
     "output_type": "display_data"
    }
   ],
   "source": [
    "plt.figure(figsize=(10, 5))\n",
    "\n",
    "topic_counts = df['topic_name'].value_counts()\n",
    "topic_counts.plot(kind='bar', color='#636efa')  \n",
    "plt.title('Number of Tweets in Each Topic')\n",
    "plt.xlabel('Topic Names')\n",
    "plt.ylabel('Count')\n",
    "plt.xticks(rotation=0)\n",
    "\n",
    "# Add data labels on top of each bar\n",
    "for i, count in enumerate(topic_counts):\n",
    "    plt.text(i, count + 5, count, ha='center')\n",
    "\n",
    "plt.show()"
   ]
  },
  {
   "cell_type": "markdown",
   "id": "97e1cb12-16a2-4b5d-883b-4a8f4f67041f",
   "metadata": {},
   "source": [
    "Overall, The Business & Industry Innovation topic contains the most tweets at 2026. This indicates that discussions around business innovations and new developments were the most common theme. The Requests for Solutions topic had 1159 tweets, making it the second most common topic. There were a substantial number of tweets focused on soliciting ideas/solutions for challenges.The Events & Webinars and Research Updates topics had fewer tweets at 544 and 402 respectively. While still significant conversations, upcoming events and research updates were less prevalent than business/solution discussions."
   ]
  },
  {
   "cell_type": "code",
   "execution_count": 17,
   "id": "3ca189e1-22ba-49bd-ab90-45e7f884cfca",
   "metadata": {},
   "outputs": [
    {
     "data": {
      "image/png": "[encoded data removed]",
      "text/plain": [
       "<Figure size 1000x600 with 1 Axes>"
      ]
     },
     "metadata": {},
     "output_type": "display_data"
    }
   ],
   "source": [
    "# number of tweets in each cluster by company\n",
    "# group the data by user_name and cluster_name, and count the number of tweets in each group\n",
    "grouped_data = df.groupby(['user_name', 'topic_name']).size().unstack()\n",
    "\n",
    "# get the list of user_names and cluster names\n",
    "user_names = grouped_data.index\n",
    "cluster_names = grouped_data.columns\n",
    "\n",
    "# plot the chart\n",
    "bar_width = 0.5\n",
    "fig, ax = plt.subplots(figsize=(10, 6))\n",
    "bottom = np.zeros(len(user_names))\n",
    "colors = ['#3240f8','#4a57f9','#636efa', '#adb3fc' ]  # Specify colors for each cluster\n",
    "\n",
    "for i, cluster in enumerate(cluster_names):\n",
    "    ax.bar(user_names, grouped_data[cluster], bottom=bottom, width=bar_width, label=cluster, color=colors[i])\n",
    "    bottom += grouped_data[cluster]\n",
    "\n",
    "# add labels, legend, and title\n",
    "ax.set_xlabel('Company')\n",
    "ax.set_ylabel('Number of Tweets')\n",
    "ax.set_title('Number of Tweets in Each Topic by Company')\n",
    "ax.legend()\n",
    "\n",
    "plt.xticks(rotation=0)\n",
    "plt.show()\n"
   ]
  },
  {
   "cell_type": "code",
   "execution_count": 18,
   "id": "18e1e859-e87a-4d58-856e-4be8b07a95d7",
   "metadata": {},
   "outputs": [
    {
     "data": {
      "text/html": [
       "<div>\n",
       "<style scoped>\n",
       "    .dataframe tbody tr th:only-of-type {\n",
       "        vertical-align: middle;\n",
       "    }\n",
       "\n",
       "    .dataframe tbody tr th {\n",
       "        vertical-align: top;\n",
       "    }\n",
       "\n",
       "    .dataframe thead tr th {\n",
       "        text-align: left;\n",
       "    }\n",
       "\n",
       "    .dataframe thead tr:last-of-type th {\n",
       "        text-align: right;\n",
       "    }\n",
       "</style>\n",
       "<table border=\"1\" class=\"dataframe\">\n",
       "  <thead>\n",
       "    <tr>\n",
       "      <th></th>\n",
       "      <th colspan=\"4\" halign=\"left\">Count</th>\n",
       "      <th colspan=\"4\" halign=\"left\">Percentage</th>\n",
       "    </tr>\n",
       "    <tr>\n",
       "      <th>topic_name</th>\n",
       "      <th>Business &amp; Industry Innovation</th>\n",
       "      <th>Events &amp; Webinars</th>\n",
       "      <th>Requests for Solutions</th>\n",
       "      <th>Research Updates</th>\n",
       "      <th>Business &amp; Industry Innovation</th>\n",
       "      <th>Events &amp; Webinars</th>\n",
       "      <th>Requests for Solutions</th>\n",
       "      <th>Research Updates</th>\n",
       "    </tr>\n",
       "    <tr>\n",
       "      <th>user_name</th>\n",
       "      <th></th>\n",
       "      <th></th>\n",
       "      <th></th>\n",
       "      <th></th>\n",
       "      <th></th>\n",
       "      <th></th>\n",
       "      <th></th>\n",
       "      <th></th>\n",
       "    </tr>\n",
       "  </thead>\n",
       "  <tbody>\n",
       "    <tr>\n",
       "      <th>IN_PART</th>\n",
       "      <td>470</td>\n",
       "      <td>45</td>\n",
       "      <td>146</td>\n",
       "      <td>13</td>\n",
       "      <td>69.73</td>\n",
       "      <td>6.68</td>\n",
       "      <td>21.66</td>\n",
       "      <td>1.93</td>\n",
       "    </tr>\n",
       "    <tr>\n",
       "      <th>MomentiveAI</th>\n",
       "      <td>321</td>\n",
       "      <td>62</td>\n",
       "      <td>89</td>\n",
       "      <td>14</td>\n",
       "      <td>66.05</td>\n",
       "      <td>12.76</td>\n",
       "      <td>18.31</td>\n",
       "      <td>2.88</td>\n",
       "    </tr>\n",
       "    <tr>\n",
       "      <th>NineSigma</th>\n",
       "      <td>145</td>\n",
       "      <td>85</td>\n",
       "      <td>426</td>\n",
       "      <td>37</td>\n",
       "      <td>20.92</td>\n",
       "      <td>12.27</td>\n",
       "      <td>61.47</td>\n",
       "      <td>5.34</td>\n",
       "    </tr>\n",
       "    <tr>\n",
       "      <th>WazokuHq</th>\n",
       "      <td>555</td>\n",
       "      <td>128</td>\n",
       "      <td>52</td>\n",
       "      <td>19</td>\n",
       "      <td>73.61</td>\n",
       "      <td>16.98</td>\n",
       "      <td>6.90</td>\n",
       "      <td>2.52</td>\n",
       "    </tr>\n",
       "    <tr>\n",
       "      <th>innoget</th>\n",
       "      <td>266</td>\n",
       "      <td>99</td>\n",
       "      <td>131</td>\n",
       "      <td>199</td>\n",
       "      <td>38.27</td>\n",
       "      <td>14.24</td>\n",
       "      <td>18.85</td>\n",
       "      <td>28.63</td>\n",
       "    </tr>\n",
       "    <tr>\n",
       "      <th>yet2com</th>\n",
       "      <td>269</td>\n",
       "      <td>125</td>\n",
       "      <td>315</td>\n",
       "      <td>120</td>\n",
       "      <td>32.45</td>\n",
       "      <td>15.08</td>\n",
       "      <td>38.00</td>\n",
       "      <td>14.48</td>\n",
       "    </tr>\n",
       "  </tbody>\n",
       "</table>\n",
       "</div>"
      ],
      "text/plain": [
       "                                     Count                    \\\n",
       "topic_name  Business & Industry Innovation Events & Webinars   \n",
       "user_name                                                      \n",
       "IN_PART                                470                45   \n",
       "MomentiveAI                            321                62   \n",
       "NineSigma                              145                85   \n",
       "WazokuHq                               555               128   \n",
       "innoget                                266                99   \n",
       "yet2com                                269               125   \n",
       "\n",
       "                                                     \\\n",
       "topic_name  Requests for Solutions Research Updates   \n",
       "user_name                                             \n",
       "IN_PART                        146               13   \n",
       "MomentiveAI                     89               14   \n",
       "NineSigma                      426               37   \n",
       "WazokuHq                        52               19   \n",
       "innoget                        131              199   \n",
       "yet2com                        315              120   \n",
       "\n",
       "                                Percentage                    \\\n",
       "topic_name  Business & Industry Innovation Events & Webinars   \n",
       "user_name                                                      \n",
       "IN_PART                              69.73              6.68   \n",
       "MomentiveAI                          66.05             12.76   \n",
       "NineSigma                            20.92             12.27   \n",
       "WazokuHq                             73.61             16.98   \n",
       "innoget                              38.27             14.24   \n",
       "yet2com                              32.45             15.08   \n",
       "\n",
       "                                                     \n",
       "topic_name  Requests for Solutions Research Updates  \n",
       "user_name                                            \n",
       "IN_PART                      21.66             1.93  \n",
       "MomentiveAI                  18.31             2.88  \n",
       "NineSigma                    61.47             5.34  \n",
       "WazokuHq                      6.90             2.52  \n",
       "innoget                      18.85            28.63  \n",
       "yet2com                      38.00            14.48  "
      ]
     },
     "execution_count": 18,
     "metadata": {},
     "output_type": "execute_result"
    }
   ],
   "source": [
    "# group the data by user_name and topic_name, and count the number of tweets in each group\n",
    "grouped_data = df.groupby(['user_name', 'topic_name']).size().unstack()\n",
    "\n",
    "# calculate the total number of tweets for each company\n",
    "total_tweets = grouped_data.sum(axis=1)\n",
    "\n",
    "# calculate the percentage of each topic relative to the total number of tweets for each company\n",
    "percentages = (grouped_data.div(total_tweets, axis=0) * 100).round(2)\n",
    "\n",
    "# store all numbers in a df\n",
    "result_df = pd.concat([grouped_data, percentages], axis=1, keys=['Count', 'Percentage'])\n",
    "result_df"
   ]
  },
  {
   "cell_type": "markdown",
   "id": "9bad3a4d-8a40-4da6-9009-37ac3ac29d33",
   "metadata": {},
   "source": [
    "* The \"Business & Industry Innovation\" topic has the most tweets overall at 32.45%, followed by \"Requests for Solutions\" at 38.00%.\n",
    "* Company \"IN_PART\" has the most balanced distribution across topics. \"NineSigma\" is heavily concentrated in \"Requests for Solutions\" with 61.47% of tweets.\n",
    "* \"MomentiveAI\" and \"WazokuHq\" have their largest portions in \"Business & Industry Innovation\" with 66.05% and 73.61% respectively.\n",
    "* \"innoget\" has their highest percentage in \"Research Updates\" at 28.63%, making them stand out.\n",
    "* \"yet2com\" has 38% in \"Requests for Solutions\" and 32.45% in \"Business Innovation\", aligning with the overall distribution.\n",
    "\n",
    "In summary, while distributions vary, \"Business Innovation\" and \"Requests for Solutions\" dominate for most companies. But some like \"innoget\" diverge with more \"Research Updates\" content. Comparing per-topic tweet counts reveals differences in content focus between the companies."
   ]
  },
  {
   "cell_type": "markdown",
   "id": "fba59411-1300-4894-a980-2850a582952b",
   "metadata": {},
   "source": [
    "### Engagement Analysis"
   ]
  },
  {
   "cell_type": "markdown",
   "id": "f1160742-477e-401d-9301-85e5399bdcbc",
   "metadata": {},
   "source": [
    "Since we have decided to focus on using the two topics derived from the K-means clustering analysis, the following engagement analysis will be centered around these specific topics. Examining engagement metrics for the Innovation Exploration and Challenges & Solutions topics will reveal which resonates better with the target audience. This will help ResearchPreneurs make data-driven decisions about content strategy and messaging to maximize engagement. In the following sections, we will analyze key metrics like likes, retweets, replies, and reach for each cluster. By evaluating audience interaction data for the two key topics, ResearchPreneurs can gain insights to refine content that drives engagement."
   ]
  },
  {
   "cell_type": "markdown",
   "id": "83f838cb-8ea7-41dd-8adc-b25f3c1a343c",
   "metadata": {},
   "source": [
    "From DataFrame, we can quickly observe that a large number of tweets have not been retweeted, replied to, or quoted. Let's calculate the percentage of tweets that have a non-zero value for these metrics."
   ]
  },
  {
   "cell_type": "code",
   "execution_count": 7,
   "id": "466bf603-a515-4f07-9716-76014c3e3f93",
   "metadata": {},
   "outputs": [
    {
     "data": {
      "image/png": "[encoded data removed]",
      "text/plain": [
       "<Figure size 700x500 with 1 Axes>"
      ]
     },
     "metadata": {},
     "output_type": "display_data"
    }
   ],
   "source": [
    "# calculate the number of tweets & percentage that have a non-zero value for each metrics\n",
    "total_tweets = len(df)\n",
    "\n",
    "metrics = ['replies', 'retweets', 'quotes']\n",
    "counts = [(df[metric] != 0).sum() for metric in metrics]\n",
    "percentages = [(count / total_tweets) * 100 for count in counts]\n",
    "\n",
    "# plot the barchart\n",
    "width = 0.3\n",
    "fig, ax = plt.subplots(figsize=(7, 5))\n",
    "x = np.arange(len(metrics))\n",
    "\n",
    "ax.bar(x - width/2, counts, width, label='Counts', color='#636efa')\n",
    "ax.bar(x + width/2, percentages, width, label='Percentages', color='#FF5F1F')\n",
    "\n",
    "# add the labels and legend\n",
    "ax.set_xlabel('Metrics')\n",
    "ax.set_ylabel('Count | Percentage')\n",
    "ax.set_xticks(x)\n",
    "ax.set_xticklabels(metrics)\n",
    "ax.set_title(\"Tweets that have a non-zero value\")\n",
    "ax.legend()\n",
    "\n",
    "# add data labels \n",
    "for i in range(len(metrics)):\n",
    "    ax.text(x[i] - width/2, counts[i]+5, counts[i], ha='center')\n",
    "    ax.text(x[i] + width/2, percentages[i]+0.5, f\"{percentages[i]:.2f}%\", ha='center')\n",
    "\n",
    "plt.show()"
   ]
  },
  {
   "cell_type": "markdown",
   "id": "3e189167",
   "metadata": {},
   "source": [
    "Based on the chart, we can draw the following interpretation:\n",
    "* The majority of tweets in the dataset have not received replies, with only 6.34% of tweets having replies. This suggests that the engagement level in terms of direct responses to tweets is relatively low.\n",
    "\n",
    "* Retweets are more prevalent compared to replies and quotes, with 25.68% of tweets being retweeted. This indicates that a significant number of tweets have resonated with users and have been shared with a wider audience.\n",
    "\n",
    "* Quotes are the least common interaction, with only 4.79% of tweets being quoted. This suggests that users are less inclined to quote tweets in their own posts compared to retweeting or replying.\n",
    "\n",
    "In short, the general engagement rate is low. Next, we will analyze these numbers of each company."
   ]
  },
  {
   "cell_type": "code",
   "execution_count": 8,
   "id": "316cea91-cc6d-448c-898e-c0f6d208357e",
   "metadata": {},
   "outputs": [
    {
     "name": "stdout",
     "output_type": "stream",
     "text": [
      "Tweets that have non-zero values\n"
     ]
    },
    {
     "data": {
      "text/html": [
       "<div>\n",
       "<style scoped>\n",
       "    .dataframe tbody tr th:only-of-type {\n",
       "        vertical-align: middle;\n",
       "    }\n",
       "\n",
       "    .dataframe tbody tr th {\n",
       "        vertical-align: top;\n",
       "    }\n",
       "\n",
       "    .dataframe thead th {\n",
       "        text-align: right;\n",
       "    }\n",
       "</style>\n",
       "<table border=\"1\" class=\"dataframe\">\n",
       "  <thead>\n",
       "    <tr style=\"text-align: right;\">\n",
       "      <th></th>\n",
       "      <th>Company</th>\n",
       "      <th>replies_count</th>\n",
       "      <th>replies_percentage</th>\n",
       "      <th>retweets_count</th>\n",
       "      <th>retweets_percentage</th>\n",
       "      <th>quotes_count</th>\n",
       "      <th>quotes_percentage</th>\n",
       "    </tr>\n",
       "  </thead>\n",
       "  <tbody>\n",
       "    <tr>\n",
       "      <th>0</th>\n",
       "      <td>innoget</td>\n",
       "      <td>15</td>\n",
       "      <td>2.158273</td>\n",
       "      <td>139</td>\n",
       "      <td>20.000000</td>\n",
       "      <td>4</td>\n",
       "      <td>0.575540</td>\n",
       "    </tr>\n",
       "    <tr>\n",
       "      <th>1</th>\n",
       "      <td>IN_PART</td>\n",
       "      <td>33</td>\n",
       "      <td>4.896142</td>\n",
       "      <td>144</td>\n",
       "      <td>21.364985</td>\n",
       "      <td>41</td>\n",
       "      <td>6.083086</td>\n",
       "    </tr>\n",
       "    <tr>\n",
       "      <th>2</th>\n",
       "      <td>NineSigma</td>\n",
       "      <td>18</td>\n",
       "      <td>2.597403</td>\n",
       "      <td>276</td>\n",
       "      <td>39.826840</td>\n",
       "      <td>42</td>\n",
       "      <td>6.060606</td>\n",
       "    </tr>\n",
       "    <tr>\n",
       "      <th>3</th>\n",
       "      <td>WazokuHq</td>\n",
       "      <td>31</td>\n",
       "      <td>4.111406</td>\n",
       "      <td>176</td>\n",
       "      <td>23.342175</td>\n",
       "      <td>19</td>\n",
       "      <td>2.519894</td>\n",
       "    </tr>\n",
       "    <tr>\n",
       "      <th>4</th>\n",
       "      <td>MomentiveAI</td>\n",
       "      <td>150</td>\n",
       "      <td>30.864198</td>\n",
       "      <td>248</td>\n",
       "      <td>51.028807</td>\n",
       "      <td>82</td>\n",
       "      <td>16.872428</td>\n",
       "    </tr>\n",
       "    <tr>\n",
       "      <th>5</th>\n",
       "      <td>yet2com</td>\n",
       "      <td>15</td>\n",
       "      <td>1.809409</td>\n",
       "      <td>78</td>\n",
       "      <td>9.408926</td>\n",
       "      <td>10</td>\n",
       "      <td>1.206273</td>\n",
       "    </tr>\n",
       "  </tbody>\n",
       "</table>\n",
       "</div>"
      ],
      "text/plain": [
       "       Company  replies_count  replies_percentage  retweets_count  \\\n",
       "0      innoget             15            2.158273             139   \n",
       "1      IN_PART             33            4.896142             144   \n",
       "2    NineSigma             18            2.597403             276   \n",
       "3     WazokuHq             31            4.111406             176   \n",
       "4  MomentiveAI            150           30.864198             248   \n",
       "5      yet2com             15            1.809409              78   \n",
       "\n",
       "   retweets_percentage  quotes_count  quotes_percentage  \n",
       "0            20.000000             4           0.575540  \n",
       "1            21.364985            41           6.083086  \n",
       "2            39.826840            42           6.060606  \n",
       "3            23.342175            19           2.519894  \n",
       "4            51.028807            82          16.872428  \n",
       "5             9.408926            10           1.206273  "
      ]
     },
     "execution_count": 8,
     "metadata": {},
     "output_type": "execute_result"
    }
   ],
   "source": [
    "metrics = ['replies', 'retweets', 'quotes']\n",
    "user_names = df['user_name'].unique()\n",
    "\n",
    "results = pd.DataFrame({'Company': user_names})\n",
    "\n",
    "for metric in metrics:\n",
    "    counts = []\n",
    "    percentages = []\n",
    "    for user_name in user_names:\n",
    "        user_data = df[df['user_name'] == user_name]\n",
    "        count = (user_data[metric] != 0).sum()\n",
    "        percentage = (count / len(user_data)) * 100\n",
    "        counts.append(count)\n",
    "        percentages.append(percentage)\n",
    "    results[f'{metric}_count'] = counts\n",
    "    results[f'{metric}_percentage'] = percentages\n",
    "print(\"Tweets that have non-zero values\")\n",
    "results"
   ]
  },
  {
   "cell_type": "markdown",
   "id": "09002aed-01b7-42ab-86c9-5b34e59f021f",
   "metadata": {},
   "source": [
    "Overall, MomentiveAI has the highest overall engagement rate, followed by WazokuHq and NineSigma. IN_PART has the highest reply rate, but its retweet and quote rates are lower than the average. innoget has the lowest overall engagement rate."
   ]
  },
  {
   "cell_type": "markdown",
   "id": "e0cd682c-a3d1-43ac-a5fb-e4e0b4b0fb79",
   "metadata": {},
   "source": [
    "Next, we will examine the count and percentage of tweets with replies and retweets within each topic in order to gain insights into the level of interaction and audience engagement associated with different topics. "
   ]
  },
  {
   "cell_type": "code",
   "execution_count": 39,
   "id": "9dfe39da-c65b-4c11-8b7d-c5d7f6444012",
   "metadata": {},
   "outputs": [
    {
     "data": {
      "text/html": [
       "<div>\n",
       "<style scoped>\n",
       "    .dataframe tbody tr th:only-of-type {\n",
       "        vertical-align: middle;\n",
       "    }\n",
       "\n",
       "    .dataframe tbody tr th {\n",
       "        vertical-align: top;\n",
       "    }\n",
       "\n",
       "    .dataframe thead th {\n",
       "        text-align: right;\n",
       "    }\n",
       "</style>\n",
       "<table border=\"1\" class=\"dataframe\">\n",
       "  <thead>\n",
       "    <tr style=\"text-align: right;\">\n",
       "      <th></th>\n",
       "      <th>Replies Count</th>\n",
       "      <th>Replies %</th>\n",
       "      <th>Retweets Count</th>\n",
       "      <th>Retweets %</th>\n",
       "    </tr>\n",
       "    <tr>\n",
       "      <th>cluster_name</th>\n",
       "      <th></th>\n",
       "      <th></th>\n",
       "      <th></th>\n",
       "      <th></th>\n",
       "    </tr>\n",
       "  </thead>\n",
       "  <tbody>\n",
       "    <tr>\n",
       "      <th>Challenges and Solutions</th>\n",
       "      <td>234</td>\n",
       "      <td>7.53</td>\n",
       "      <td>818</td>\n",
       "      <td>26.34</td>\n",
       "    </tr>\n",
       "    <tr>\n",
       "      <th>Innovation Exploration</th>\n",
       "      <td>28</td>\n",
       "      <td>2.73</td>\n",
       "      <td>243</td>\n",
       "      <td>23.71</td>\n",
       "    </tr>\n",
       "  </tbody>\n",
       "</table>\n",
       "</div>"
      ],
      "text/plain": [
       "                          Replies Count  Replies %  Retweets Count  Retweets %\n",
       "cluster_name                                                                  \n",
       "Challenges and Solutions            234       7.53             818       26.34\n",
       "Innovation Exploration               28       2.73             243       23.71"
      ]
     },
     "execution_count": 39,
     "metadata": {},
     "output_type": "execute_result"
    }
   ],
   "source": [
    "# calculate the number of tweets with replies in each topic\n",
    "replies_count_by_topic = df[df['replies'] != 0].groupby('cluster_name').size()\n",
    "\n",
    "# calculate the number of tweets with retweets in each topic\n",
    "retweets_count_by_topic = df[df['retweets'] != 0].groupby('cluster_name').size()\n",
    "\n",
    "# calculate the total number of tweets per topic\n",
    "total_tweets_by_topic = df.groupby('cluster_name').size()\n",
    "\n",
    "# calculate the percentage of tweets with replies in each topic\n",
    "replies_percentage_by_topic = (replies_count_by_topic / total_tweets_by_topic * 100).round(2)\n",
    "\n",
    "# calculate the percentage of tweets with retweets in each topic\n",
    "retweets_percentage_by_topic = (retweets_count_by_topic / total_tweets_by_topic * 100).round(2)\n",
    "\n",
    "# create a single DataFrame to store the results\n",
    "tweet_engagement_df = pd.DataFrame({\n",
    "    'Replies Count': replies_count_by_topic,\n",
    "    'Replies %': replies_percentage_by_topic,\n",
    "    'Retweets Count': retweets_count_by_topic,\n",
    "    'Retweets %': retweets_percentage_by_topic\n",
    "})\n",
    "\n",
    "tweet_engagement_df"
   ]
  },
  {
   "cell_type": "markdown",
   "id": "69db3242-40cf-4a90-9656-b84f52fee91f",
   "metadata": {},
   "source": [
    "The \"Challenges and Solutions\" topic generates more engagement in terms of both replies and retweets, suggesting active discussions and sharing of content. On the other hand, the \"Innovation Exploration\" topic exhibits lower levels of direct interaction through replies but still garners considerable engagement through retweets."
   ]
  },
  {
   "cell_type": "markdown",
   "id": "c5c2a883-138a-42d3-b309-26be406a93b9",
   "metadata": {},
   "source": [
    "## Recommendations"
   ]
  },
  {
   "cell_type": "markdown",
   "id": "4bb4a839-0c7b-4db8-8dc3-fd9ec280393b",
   "metadata": {},
   "source": [
    "Based on the analysis of competitors and their engagement with different topics, we would recommend the following approach for a company starting to write tweets on Twitter:\n",
    "\n",
    "1. \"Challenges and Solutions\" Topic:\n",
    "\n",
    "* Address relevant industry challenges and provide practical solutions in tweets\n",
    "* Encourage engagement by asking questions and responding to replies\n",
    "* Share success stories and real-world examples of overcoming challenges\n",
    "\n",
    "2.  \"Innovation Exploration\" Topic\n",
    "* Highlight innovative ideas, emerging trends, and new technologies\n",
    "* Share thought-provoking research findings and future outlooks\n",
    "* Showcase your innovative initiatives and projects"
   ]
  },
  {
   "cell_type": "markdown",
   "id": "f0921515-90b4-4c8d-8ede-f45d17dd9f6d",
   "metadata": {},
   "source": [
    "## Limitations"
   ]
  },
  {
   "cell_type": "markdown",
   "id": "d56f52e1-1fc0-4dbe-beaa-5862798fafd7",
   "metadata": {},
   "source": [
    "There are two main limitations of this project:\n",
    "* **Limited data**: The final dataset is around 4k tweets, which is quite small to draw conclusions about engagement.\n",
    "* **Not diverse subject**: The subject is not diverse in nature, which makes it difficult to come up with topics that are significantly different.\n",
    "\n",
    "\n",
    "One suggestion to address the limited data is to increase the size of the dataset. This could be done by looking at tweets from a wider range of companies or industries. This would allow us to have better topic modeling, which would help us to identify the most engaging topics. It would also allow us to draw more accurate conclusions about engagement."
   ]
  }
 ],
 "metadata": {
  "kernelspec": {
   "display_name": "Python 3 (ipykernel)",
   "language": "python",
   "name": "python3"
  },
  "language_info": {
   "codemirror_mode": {
    "name": "ipython",
    "version": 3
   },
   "file_extension": ".py",
   "mimetype": "text/x-python",
   "name": "python",
   "nbconvert_exporter": "python",
   "pygments_lexer": "ipython3",
   "version": "3.10.10"
  }
 },
 "nbformat": 4,
 "nbformat_minor": 5
}
